{
 "cells": [
  {
   "cell_type": "code",
   "execution_count": 15,
   "metadata": {},
   "outputs": [],
   "source": [
    "import nest_asyncio\n",
    "nest_asyncio.apply()"
   ]
  },
  {
   "cell_type": "code",
   "execution_count": null,
   "metadata": {},
   "outputs": [
    {
     "name": "stdout",
     "output_type": "stream",
     "text": [
      "Answer: Water is a simple molecule with a chemical composition of H2O, which means that each water molecule consists of two hydrogen atoms bonded to one oxygen atom.\n"
     ]
    }
   ],
   "source": [
    "from langchain_openai import ChatOpenAI\n",
    "from langchain_core.prompts import ChatPromptTemplate\n",
    "from langchain_core.output_parsers import StrOutputParser\n",
    "import os\n",
    "\n",
    "\n",
    "# API keys – replace these with your actual keys or use os.getenv\n",
    "openai_api_key = \"\" # set your open ai key here\n",
    "javelin_api_key = \"\" #ser your javelin key here\n",
    "\n",
    "\n",
    "# Set the model dynamically (change this value as needed)\n",
    "model_choice = \"gpt-3.5-turbo\"  # For example, change to \"gpt-4\" for testing\n",
    "route_name = \"openai-univ\" #set your route name here\n",
    "# Create LangChain OpenAI client using Javelin’s universal endpoint\n",
    "# Here, the base URL is set to the provider's endpoint (\"/openai\")\n",
    "# and the header \"x-javelin-route\" is set to the registered route (\"openai-univ\").\n",
    "\n",
    "\n",
    "llm = ChatOpenAI(\n",
    "    openai_api_key=openai_api_key,\n",
    "    openai_api_base=\"https://api-dev.javelin.live/v1/openai\",\n",
    "    default_headers={\n",
    "        \"x-api-key\": javelin_api_key,\n",
    "        \"x-javelin-route\": route_name,\n",
    "        # \"x-javelin-provider\": \"https://api.openai.com/v1\",\n",
    "        \"x-javelin-model\":model_choice\n",
    "        \n",
    "    }\n",
    ")\n",
    "\n",
    "\n",
    "# Define a simple prompt template\n",
    "prompt = ChatPromptTemplate.from_messages([\n",
    "    (\"system\", \"You are a helpful assistant.\"),\n",
    "    (\"user\", \"{input}\")\n",
    "])\n",
    "\n",
    "# Use a simple output parser (string output)\n",
    "output_parser = StrOutputParser()\n",
    "\n",
    "# Create the processing chain (prompt -> LLM -> parser)\n",
    "chain = prompt | llm | output_parser\n",
    "\n",
    "def ask_question(question: str) -> str:\n",
    "    return chain.invoke({\"input\": question})\n",
    "\n",
    "# Example usage:\n",
    "if __name__ == \"__main__\":\n",
    "    question = \"What is the chemical composition of water?\"\n",
    "    answer = ask_question(question)\n",
    "    print(\"Answer:\", answer)\n"
   ]
  },
  {
   "cell_type": "code",
   "execution_count": null,
   "metadata": {},
   "outputs": [],
   "source": []
  }
 ],
 "metadata": {
  "kernelspec": {
   "display_name": "venv",
   "language": "python",
   "name": "python3"
  },
  "language_info": {
   "codemirror_mode": {
    "name": "ipython",
    "version": 3
   },
   "file_extension": ".py",
   "mimetype": "text/x-python",
   "name": "python",
   "nbconvert_exporter": "python",
   "pygments_lexer": "ipython3",
   "version": "3.12.8"
  }
 },
 "nbformat": 4,
 "nbformat_minor": 2
}
