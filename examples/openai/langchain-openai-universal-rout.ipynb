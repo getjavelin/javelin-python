{
 "cells": [
  {
   "cell_type": "code",
   "execution_count": 15,
   "metadata": {},
   "outputs": [],
   "source": [
    "import nest_asyncio\n",
    "nest_asyncio.apply()"
   ]
  },
  {
   "cell_type": "code",
   "execution_count": 91,
   "metadata": {},
   "outputs": [
    {
     "name": "stdout",
     "output_type": "stream",
     "text": [
      "Answer: The chemical composition of water is H2O, which means it is made up of two hydrogen atoms and one oxygen atom.\n"
     ]
    }
   ],
   "source": [
    "from langchain_openai import ChatOpenAI\n",
    "from langchain_core.prompts import ChatPromptTemplate\n",
    "from langchain_core.output_parsers import StrOutputParser\n",
    "import os\n",
    "from dotenv import load_dotenv\n",
    "\n",
    "# Load environment variables if desired\n",
    "load_dotenv()\n",
    "\n",
    "# API keys – replace these with your actual keys or use os.getenv\n",
    "openai_api_key = \"\" # set your open ai key here\n",
    "javelin_api_key = \"\" # set your javelin api key here\n",
    "\n",
    "\n",
    "# Set the model dynamically (change this value as needed)\n",
    "model_choice = \"gpt-4\"  # For example, change to \"gpt-4\" for testing\n",
    "route_name = \"\" #set your route name here\n",
    "# Create LangChain OpenAI client using Javelin’s universal endpoint\n",
    "# Here, the base URL is set to the provider's endpoint (\"/openai\")\n",
    "# and the header \"x-javelin-route\" is set to the registered route (\"openai-univ\").\n",
    "llm = ChatOpenAI(\n",
    "    openai_api_key=openai_api_key,\n",
    "    openai_api_base=\"https://api-dev.javelin.live/v1/openai\",\n",
    "    model_name=model_choice,  # dynamically set the model here\n",
    "    default_headers={\n",
    "        \"x-api-key\": javelin_api_key,\n",
    "        \"x-javelin-route\": route_name,  # the route name registered via Javelin\n",
    "    }\n",
    ")\n",
    "\n",
    "# Define a simple prompt template\n",
    "prompt = ChatPromptTemplate.from_messages([\n",
    "    (\"system\", \"You are a helpful assistant.\"),\n",
    "    (\"user\", \"{input}\")\n",
    "])\n",
    "\n",
    "# Use a simple output parser (string output)\n",
    "output_parser = StrOutputParser()\n",
    "\n",
    "# Create the processing chain (prompt -> LLM -> parser)\n",
    "chain = prompt | llm | output_parser\n",
    "\n",
    "def ask_question(question: str) -> str:\n",
    "    return chain.invoke({\"input\": question})\n",
    "\n",
    "# Example usage:\n",
    "if __name__ == \"__main__\":\n",
    "    question = \"What is the chemical composition of water?\"\n",
    "    answer = ask_question(question)\n",
    "    print(\"Answer:\", answer)\n"
   ]
  },
  {
   "cell_type": "code",
   "execution_count": null,
   "metadata": {},
   "outputs": [],
   "source": []
  }
 ],
 "metadata": {
  "kernelspec": {
   "display_name": "venv",
   "language": "python",
   "name": "python3"
  },
  "language_info": {
   "codemirror_mode": {
    "name": "ipython",
    "version": 3
   },
   "file_extension": ".py",
   "mimetype": "text/x-python",
   "name": "python",
   "nbconvert_exporter": "python",
   "pygments_lexer": "ipython3",
   "version": "3.12.8"
  }
 },
 "nbformat": 4,
 "nbformat_minor": 2
}
