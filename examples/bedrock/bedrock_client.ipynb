{
 "cells": [
  {
   "cell_type": "markdown",
   "metadata": {},
   "source": [
    "# Bedrock Notebook"
   ]
  },
  {
   "cell_type": "code",
   "execution_count": null,
   "metadata": {},
   "outputs": [],
   "source": [
    "import json\n",
    "import os\n",
    "import boto3\n",
    "import dotenv\n",
    "from javelin_sdk import (\n",
    "    JavelinClient,\n",
    "    JavelinConfig,\n",
    ")\n",
    "\n",
    "dotenv.load_dotenv()\n",
    "\n",
    "# Retrieve environment variables\n",
    "javelin_api_key = os.getenv(\"JAVELIN_API_KEY\")\n",
    "\n",
    "# Initialize Bedrock Client\n",
    "bedrock_client = boto3.client(\n",
    "    service_name=\"bedrock-runtime\",\n",
    "    region_name=\"us-east-1\"\n",
    ")\n",
    "\n",
    "\n",
    "# Initialize Javelin Client\n",
    "config = JavelinConfig(\n",
    "    base_url=\"https://api-dev.javelin.live\",\n",
    "    javelin_api_key=javelin_api_key,\n",
    ")\n",
    "client = JavelinClient(config)\n",
    "client.register_bedrock_runtime(bedrock_client)\n",
    "\n",
    "\n",
    "# Call Bedrock Model\n",
    "response = bedrock_client.invoke_model(\n",
    "                modelId=\"anthropic.claude-3-sonnet-20240229-v1:0\",\n",
    "                body=json.dumps({\n",
    "            \"anthropic_version\": \"bedrock-2023-05-31\",\n",
    "            \"max_tokens\": 100,\n",
    "            \"messages\": [\n",
    "                {\n",
    "                \"content\": \"What is machine learning?\",\n",
    "                \"role\": \"user\"\n",
    "                }\n",
    "            ]\n",
    "        }),\n",
    "                contentType=\"application/json\"\n",
    "            )\n",
    "response_body = json.loads(response[\"body\"].read())\n",
    "print(f\"Invoke Response: {json.dumps(response_body, indent=2)}\")"
   ]
  }
 ],
 "metadata": {
  "language_info": {
   "name": "python"
  }
 },
 "nbformat": 4,
 "nbformat_minor": 2
}
