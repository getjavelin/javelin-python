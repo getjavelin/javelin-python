{
 "cells": [
  {
   "cell_type": "code",
   "execution_count": 4,
   "metadata": {},
   "outputs": [
    {
     "name": "stderr",
     "output_type": "stream",
     "text": [
      "\u001b[31m\u001b[1mWARNING: This is a development server. Do not use it in a production deployment. Use a production WSGI server instead.\u001b[0m\n",
      " * Running on http://localhost:5001\n",
      "\u001b[33mPress CTRL+C to quit\u001b[0m\n"
     ]
    }
   ],
   "source": [
    "import os\n",
    "import getpass\n",
    "import openai\n",
    "from flask import Flask, request, jsonify\n",
    "from werkzeug.serving import run_simple\n",
    "from threading import Thread\n",
    "from langchain_openai import OpenAIEmbeddings, OpenAI\n",
    "from langchain_chroma import Chroma\n",
    "from langchain.schema import Document\n",
    "from langchain.text_splitter import RecursiveCharacterTextSplitter\n",
    "\n",
    "# Set OpenAI API key and organization\n",
    "os.environ[\"OPENAI_API_KEY\"] = \"\"\n",
    "\n",
    "openai.api_key = os.environ[\"OPENAI_API_KEY\"]\n",
    "\n",
    "# Initialize Flask app\n",
    "app = Flask(__name__)\n",
    "\n",
    "# Instantiate the LLM once (using the recommended invocation method)\n",
    "llm = OpenAI()\n",
    "\n",
    "# Initialize embeddings and vector store\n",
    "embedding_model_custom = OpenAIEmbeddings()\n",
    "vector_store = Chroma(persist_directory=\"chroma_store_custom\", embedding_function=embedding_model_custom)\n",
    "\n",
    "# Sample text to demonstrate document storage and querying\n",
    "sample_text = \"\"\"\n",
    "Artificial Intelligence (AI) is a rapidly advancing technology that is transforming industries and societies across the globe. In recent years, the implementation of AI models has revolutionized sectors such as healthcare, automotive, finance, and entertainment, among many others. These technologies enable machines to simulate human-like cognitive functions, such as problem-solving, learning, and decision-making, with unprecedented accuracy and efficiency. AI models leverage vast amounts of data to provide insights, automate complex tasks, and enhance productivity in ways that were once considered unimaginable. As AI continues to evolve, it is reshaping the workforce, influencing economic trends, and even altering the way people interact with technology on a day-to-day basis.\n",
    "\n",
    "In the healthcare industry, AI applications have the potential to revolutionize patient care, diagnosis, and treatment. Machine learning algorithms are being used to analyze medical data, such as medical images, patient records, and clinical trial results, to assist doctors in making more accurate and timely diagnoses. For example, AI-powered tools can detect early signs of diseases such as cancer, heart conditions, and neurological disorders, improving patient outcomes by enabling early intervention.\n",
    "\"\"\"\n",
    "\n",
    "@app.route('/store', methods=['POST'])\n",
    "def store_document():\n",
    "    # Split the sample text into chunks and add them to the vector store\n",
    "    documents = [Document(page_content=sample_text)]\n",
    "    text_splitter = RecursiveCharacterTextSplitter(chunk_size=200, chunk_overlap=50)\n",
    "    split_docs = text_splitter.split_documents(documents)\n",
    "    vector_store.add_documents(split_docs)\n",
    "    return jsonify({\"message\": \"Document stored successfully!\"})\n",
    "\n",
    "def retrieve_relevant_docs(query):\n",
    "    # Retrieve a list of Document objects using similarity search\n",
    "    relevant_docs = vector_store.similarity_search(query, k=2)\n",
    "    print(\"Relevant docs (raw):\", relevant_docs)\n",
    "    # Combine the retrieved document texts into a single string\n",
    "    documents = \"\\n\".join([doc.page_content for doc in relevant_docs])\n",
    "    return documents\n",
    "\n",
    "@app.route('/query', methods=['POST'])\n",
    "def get_final_response():\n",
    "    data = request.get_json()\n",
    "    query = data.get('query')\n",
    "    print(\"Query >>>\", query)\n",
    "    relevant_documents = retrieve_relevant_docs(query)\n",
    "    print(\"Relevant docs are >>>\", relevant_documents)\n",
    "    \n",
    "    # Create a combined prompt from the query and the retrieved documents\n",
    "    prompt = f\"Question: {query}\\nDocuments:\\n{relevant_documents}\\nAnswer:\"\n",
    "    \n",
    "    # Invoke the LLM using the recommended interface\n",
    "    response = llm.invoke(prompt)\n",
    "    \n",
    "    return jsonify({\"response\": response})\n",
    "\n",
    "def run_app():\n",
    "    run_simple('localhost', 5001, app, use_reloader=False, use_debugger=False)\n",
    "\n",
    "# Run the Flask server in a background thread so that you can use the notebook concurrently\n",
    "thread = Thread(target=run_app)\n",
    "thread.start()\n"
   ]
  },
  {
   "cell_type": "code",
   "execution_count": 6,
   "metadata": {},
   "outputs": [
    {
     "name": "stdout",
     "output_type": "stream",
     "text": [
      "Store Response: {\"message\":\"Document stored successfully!\"}\n",
      "\n",
      "Query Response: <Response [200]>\n"
     ]
    },
    {
     "name": "stdout",
     "output_type": "stream",
     "text": [
      "Query >>> What impact does AI have on healthcare?\n",
      "Relevant docs (raw): [Document(id='bdbc442d-d3d5-4e2d-b917-d006566d88d9', metadata={}, page_content='In the healthcare industry, AI applications have the potential to revolutionize patient care, diagnosis, and treatment. Machine learning algorithms are being used to analyze medical data, such as'), Document(id='35a7c708-9758-42fd-bc24-eff4499505ce', metadata={}, page_content='implementation of AI models has revolutionized sectors such as healthcare, automotive, finance, and entertainment, among many others. These technologies enable machines to simulate human-like')]\n",
      "Relevant docs are >>> In the healthcare industry, AI applications have the potential to revolutionize patient care, diagnosis, and treatment. Machine learning algorithms are being used to analyze medical data, such as\n",
      "implementation of AI models has revolutionized sectors such as healthcare, automotive, finance, and entertainment, among many others. These technologies enable machines to simulate human-like\n"
     ]
    },
    {
     "name": "stderr",
     "output_type": "stream",
     "text": [
      "127.0.0.1 - - [04/Feb/2025 17:28:11] \"POST /query HTTP/1.1\" 200 -\n"
     ]
    }
   ],
   "source": [
    "import requests\n",
    "\n",
    "# URL setup for the Flask app\n",
    "base_url = \"http://localhost:5001\"\n",
    "\n",
    "# Triggering the document storage\n",
    "store_response = requests.post(f\"{base_url}/store\")\n",
    "print(\"Store Response:\", store_response.text)\n",
    "\n",
    "# Querying the stored documents\n",
    "query_url = f\"{base_url}/query\"\n",
    "query_data = {\n",
    "    \"query\": \"What impact does AI have on healthcare?\"\n",
    "}\n",
    "headers = {'Content-Type': 'application/json'}\n",
    "query_response = requests.post(query_url, json=query_data, headers=headers)\n",
    "print(\"Query Response:\", query_response)\n"
   ]
  },
  {
   "cell_type": "code",
   "execution_count": 3,
   "metadata": {},
   "outputs": [],
   "source": [
    "import os "
   ]
  },
  {
   "cell_type": "code",
   "execution_count": 4,
   "metadata": {},
   "outputs": [],
   "source": [
    "os.environ[\"OPENAI_API_KEY\"] = \"\"\n",
    "# Set your DeepEval (Confident AI) API key\n",
    "os.environ[\"DEEPEVAL_API_KEY\"] = \"\""
   ]
  },
  {
   "cell_type": "code",
   "execution_count": 10,
   "metadata": {},
   "outputs": [
    {
     "data": {
      "text/html": [
       "<pre style=\"white-space:pre;overflow-x:auto;line-height:normal;font-family:Menlo,'DejaVu Sans Mono',consolas,'Courier New',monospace\">Congratulations! Login successful 🙌 \n",
       "</pre>\n"
      ],
      "text/plain": [
       "Congratulations! Login successful 🙌 \n"
      ]
     },
     "metadata": {},
     "output_type": "display_data"
    },
    {
     "name": "stdout",
     "output_type": "stream",
     "text": [
      "[DEBUG] Generating test queries...\n",
      "[DEBUG] Raw LLM output: [\n",
      "    \"What is the RAG model?\",\n",
      "    \"How has AI transformed industries?\",\n",
      "    \"What sectors have AI models revolutionized?\",\n",
      "    \"What functions can machines simulate with AI?\",\n",
      "    \"What is the impact of AI on societies?\"\n",
      "]\n",
      "[DEBUG] Parsed queries: ['What is the RAG model?', 'How has AI transformed industries?', 'What sectors have AI models revolutionized?', 'What functions can machines simulate with AI?', 'What is the impact of AI on societies?']\n",
      "Generate Tool Response:\n",
      "Custom test queries have been generated for the app \"RAG_FOR_AI\". You can download the test queries from the following link: [Download Test Queries](sandbox:/content/RAG_FOR_AI_test_cases.csv)\n",
      "[DEBUG] Reading test queries from RAG_FOR_AI_test_cases.csv...\n",
      "[DEBUG] Query: What is the RAG model? -> Response:  The RAG model, or Resource-Automated Generator model, is a type of artificial intelligence (AI) model that aims to mimic human cognitive functions by using large amounts of data to improve decision-making and problem-solving processes. It is often used in industries such as healthcare to improve patient outcomes by enabling early intervention.\n",
      "[DEBUG] Query: How has AI transformed industries? -> Response: \n",
      "\n",
      "AI has transformed industries in numerous ways, including:\n",
      "\n",
      "1. Automation and efficiency: AI has enabled industries to automate tasks and processes that were previously done by humans, leading to increased efficiency and productivity. This has been particularly beneficial in industries such as manufacturing, logistics, and customer service.\n",
      "\n",
      "2. Data analysis: AI has the ability to analyze large amounts of data quickly and accurately, providing valuable insights and predictions for businesses. This has been especially useful in industries such as finance, healthcare, and marketing.\n",
      "\n",
      "3. Personalization: With the help of AI, industries are able to personalize products and services for individual customers based on their preferences and behavior. This has greatly improved customer satisfaction and loyalty.\n",
      "\n",
      "4. Decision making: AI has the ability to process and analyze complex data, enabling industries to make better decisions and improve their strategies. This has been particularly useful in industries such as retail, finance, and healthcare.\n",
      "\n",
      "5. Improved accuracy and quality: AI has significantly improved the accuracy and quality of products and services in industries such as manufacturing and healthcare. With the use of AI, errors and defects can be detected and corrected more efficiently, leading to improved outcomes.\n",
      "\n",
      "6. Cost savings: By automating tasks and processes, AI has helped industries save on labor costs and reduce human error. This\n",
      "[DEBUG] Query: What sectors have AI models revolutionized? -> Response:  Healthcare, automotive, finance, and entertainment.\n",
      "[DEBUG] Query: What functions can machines simulate with AI? -> Response:  Machines can simulate various cognitive functions with AI, including problem-solving, learning, decision-making, and data analysis. AI models have been implemented in various industries such as healthcare, automotive, finance, and entertainment, allowing machines to perform tasks with human-like accuracy and efficiency.\n",
      "[DEBUG] Query: What is the impact of AI on societies? -> Response: \n",
      "1. Changes in the Workforce\n",
      "One of the biggest impacts of AI on societies is its effect on the workforce. AI has the potential to automate jobs that were previously performed by humans, leading to concerns about job displacement and unemployment. This may result in a significant shift in the job market, with certain industries and roles becoming obsolete while new jobs in AI and related fields emerge.\n",
      "\n",
      "2. Economic Trends\n",
      "The integration of AI into industries and businesses has the potential to greatly impact economic trends. AI can increase efficiency and productivity, reduce costs, and improve decision-making, leading to economic growth and increased profits. However, it may also widen the income gap between those with the skills to work with AI and those without, leading to economic inequality.\n",
      "\n",
      "3. Changes in Interactions with Technology\n",
      "AI has also changed the way people interact with technology. With the rise of virtual assistants and chatbots, people are increasingly interacting with AI-powered devices and systems in their daily lives. This has led to a more personalized and efficient user experience, but also raises concerns about privacy and security.\n",
      "\n",
      "4. Ethical and Social Implications\n",
      "AI also brings with it ethical and social implications. As AI becomes more advanced, questions arise about its impact on individual rights, biases in decision-making, and the\n"
     ]
    },
    {
     "name": "stdout",
     "output_type": "stream",
     "text": [
      "Query >>> What is the RAG model?\n",
      "Relevant docs (raw): [Document(id='ba283cc7-fc48-412e-9595-cb94db4e91ab', metadata={}, page_content='enable machines to simulate human-like cognitive functions, such as problem-solving, learning, and decision-making, with unprecedented accuracy and efficiency. AI models leverage vast amounts of data'), Document(id='1297de00-0d86-4daa-b6b7-529dabbbc869', metadata={}, page_content='improving patient outcomes by enabling early intervention.')]\n",
      "Relevant docs are >>> enable machines to simulate human-like cognitive functions, such as problem-solving, learning, and decision-making, with unprecedented accuracy and efficiency. AI models leverage vast amounts of data\n",
      "improving patient outcomes by enabling early intervention.\n"
     ]
    },
    {
     "name": "stderr",
     "output_type": "stream",
     "text": [
      "127.0.0.1 - - [04/Feb/2025 17:38:07] \"POST /query HTTP/1.1\" 200 -\n"
     ]
    },
    {
     "name": "stdout",
     "output_type": "stream",
     "text": [
      "Query >>> How has AI transformed industries?\n",
      "Relevant docs (raw): [Document(id='0c3c7a78-eefa-4cc8-aaed-5e303a668797', metadata={}, page_content='unimaginable. As AI continues to evolve, it is reshaping the workforce, influencing economic trends, and even altering the way people interact with technology on a day-to-day basis.'), Document(id='808a58b8-8788-4ace-bef9-23e6ff60fdf3', metadata={}, page_content='Artificial Intelligence (AI) is a rapidly advancing technology that is transforming industries and societies across the globe. In recent years, the implementation of AI models has revolutionized')]\n",
      "Relevant docs are >>> unimaginable. As AI continues to evolve, it is reshaping the workforce, influencing economic trends, and even altering the way people interact with technology on a day-to-day basis.\n",
      "Artificial Intelligence (AI) is a rapidly advancing technology that is transforming industries and societies across the globe. In recent years, the implementation of AI models has revolutionized\n"
     ]
    },
    {
     "name": "stderr",
     "output_type": "stream",
     "text": [
      "127.0.0.1 - - [04/Feb/2025 17:38:11] \"POST /query HTTP/1.1\" 200 -\n"
     ]
    },
    {
     "name": "stdout",
     "output_type": "stream",
     "text": [
      "Query >>> What sectors have AI models revolutionized?\n",
      "Relevant docs (raw): [Document(id='35a7c708-9758-42fd-bc24-eff4499505ce', metadata={}, page_content='implementation of AI models has revolutionized sectors such as healthcare, automotive, finance, and entertainment, among many others. These technologies enable machines to simulate human-like'), Document(id='808a58b8-8788-4ace-bef9-23e6ff60fdf3', metadata={}, page_content='Artificial Intelligence (AI) is a rapidly advancing technology that is transforming industries and societies across the globe. In recent years, the implementation of AI models has revolutionized')]\n",
      "Relevant docs are >>> implementation of AI models has revolutionized sectors such as healthcare, automotive, finance, and entertainment, among many others. These technologies enable machines to simulate human-like\n",
      "Artificial Intelligence (AI) is a rapidly advancing technology that is transforming industries and societies across the globe. In recent years, the implementation of AI models has revolutionized\n"
     ]
    },
    {
     "name": "stderr",
     "output_type": "stream",
     "text": [
      "127.0.0.1 - - [04/Feb/2025 17:38:15] \"POST /query HTTP/1.1\" 200 -\n"
     ]
    },
    {
     "name": "stdout",
     "output_type": "stream",
     "text": [
      "Query >>> What functions can machines simulate with AI?\n",
      "Relevant docs (raw): [Document(id='ba283cc7-fc48-412e-9595-cb94db4e91ab', metadata={}, page_content='enable machines to simulate human-like cognitive functions, such as problem-solving, learning, and decision-making, with unprecedented accuracy and efficiency. AI models leverage vast amounts of data'), Document(id='35a7c708-9758-42fd-bc24-eff4499505ce', metadata={}, page_content='implementation of AI models has revolutionized sectors such as healthcare, automotive, finance, and entertainment, among many others. These technologies enable machines to simulate human-like')]\n",
      "Relevant docs are >>> enable machines to simulate human-like cognitive functions, such as problem-solving, learning, and decision-making, with unprecedented accuracy and efficiency. AI models leverage vast amounts of data\n",
      "implementation of AI models has revolutionized sectors such as healthcare, automotive, finance, and entertainment, among many others. These technologies enable machines to simulate human-like\n"
     ]
    },
    {
     "name": "stderr",
     "output_type": "stream",
     "text": [
      "127.0.0.1 - - [04/Feb/2025 17:38:16] \"POST /query HTTP/1.1\" 200 -\n"
     ]
    },
    {
     "name": "stdout",
     "output_type": "stream",
     "text": [
      "Query >>> What is the impact of AI on societies?\n",
      "Relevant docs (raw): [Document(id='0c3c7a78-eefa-4cc8-aaed-5e303a668797', metadata={}, page_content='unimaginable. As AI continues to evolve, it is reshaping the workforce, influencing economic trends, and even altering the way people interact with technology on a day-to-day basis.'), Document(id='808a58b8-8788-4ace-bef9-23e6ff60fdf3', metadata={}, page_content='Artificial Intelligence (AI) is a rapidly advancing technology that is transforming industries and societies across the globe. In recent years, the implementation of AI models has revolutionized')]\n",
      "Relevant docs are >>> unimaginable. As AI continues to evolve, it is reshaping the workforce, influencing economic trends, and even altering the way people interact with technology on a day-to-day basis.\n",
      "Artificial Intelligence (AI) is a rapidly advancing technology that is transforming industries and societies across the globe. In recent years, the implementation of AI models has revolutionized\n"
     ]
    },
    {
     "name": "stderr",
     "output_type": "stream",
     "text": [
      "127.0.0.1 - - [04/Feb/2025 17:38:19] \"POST /query HTTP/1.1\" 200 -\n"
     ]
    },
    {
     "data": {
      "text/html": [
       "<pre style=\"white-space:pre;overflow-x:auto;line-height:normal;font-family:Menlo,'DejaVu Sans Mono',consolas,'Courier New',monospace\">/Users/dhruvyadav/Desktop/javelin-main/javelin-python/venv/lib/python3.12/site-packages/rich/live.py:231: \n",
       "UserWarning: install \"ipywidgets\" for Jupyter support\n",
       "  warnings.warn('install \"ipywidgets\" for Jupyter support')\n",
       "</pre>\n"
      ],
      "text/plain": [
       "/Users/dhruvyadav/Desktop/javelin-main/javelin-python/venv/lib/python3.12/site-packages/rich/live.py:231: \n",
       "UserWarning: install \"ipywidgets\" for Jupyter support\n",
       "  warnings.warn('install \"ipywidgets\" for Jupyter support')\n"
      ]
     },
     "metadata": {},
     "output_type": "display_data"
    },
    {
     "name": "stdout",
     "output_type": "stream",
     "text": [
      "[DEBUG] Reference answer: content='The RAG model is a project management tool used to assess and communicate the status of a project or task. RAG stands for Red, Amber, and Green, which are the three colors used to indicate the status of a project or task.\\n\\n- Red: This indicates that the project or task is at risk and requires immediate attention. It means that the project is behind schedule, over budget, or facing other significant issues that need to be addressed urgently.\\n\\n- Amber: This indicates that the project or task is at risk of becoming red if action is not taken. It means that there are some issues or concerns that need to be addressed to prevent the project from falling behind schedule or going over budget.\\n\\n- Green: This indicates that the project or task is on track and progressing as planned. It means that everything is going well and there are no major issues or concerns that need to be addressed.\\n\\nThe RAG model is often used in project management to provide a quick and visual way to communicate the status of a project or task to stakeholders. By using the RAG model, project managers can easily identify areas that need attention and take appropriate action to keep the project on track.' additional_kwargs={'refusal': None} response_metadata={'token_usage': {'completion_tokens': 236, 'prompt_tokens': 21, 'total_tokens': 257, 'completion_tokens_details': {'accepted_prediction_tokens': 0, 'audio_tokens': 0, 'reasoning_tokens': 0, 'rejected_prediction_tokens': 0}, 'prompt_tokens_details': {'audio_tokens': 0, 'cached_tokens': 0}}, 'model_name': 'gpt-3.5-turbo-0125', 'system_fingerprint': None, 'finish_reason': 'stop', 'logprobs': None} id='run-4a484347-5aca-4765-95ae-e2d1b349ea48-0' usage_metadata={'input_tokens': 21, 'output_tokens': 236, 'total_tokens': 257, 'input_token_details': {'audio': 0, 'cache_read': 0}, 'output_token_details': {'audio': 0, 'reasoning': 0}}\n"
     ]
    },
    {
     "data": {
      "text/html": [
       "<pre style=\"white-space:pre;overflow-x:auto;line-height:normal;font-family:Menlo,'DejaVu Sans Mono',consolas,'Courier New',monospace\"></pre>\n"
      ],
      "text/plain": []
     },
     "metadata": {},
     "output_type": "display_data"
    },
    {
     "data": {
      "text/html": [
       "<pre style=\"white-space:pre;overflow-x:auto;line-height:normal;font-family:Menlo,'DejaVu Sans Mono',consolas,'Courier New',monospace\">/Users/dhruvyadav/Desktop/javelin-main/javelin-python/venv/lib/python3.12/site-packages/rich/live.py:231: \n",
       "UserWarning: install \"ipywidgets\" for Jupyter support\n",
       "  warnings.warn('install \"ipywidgets\" for Jupyter support')\n",
       "</pre>\n"
      ],
      "text/plain": [
       "/Users/dhruvyadav/Desktop/javelin-main/javelin-python/venv/lib/python3.12/site-packages/rich/live.py:231: \n",
       "UserWarning: install \"ipywidgets\" for Jupyter support\n",
       "  warnings.warn('install \"ipywidgets\" for Jupyter support')\n"
      ]
     },
     "metadata": {},
     "output_type": "display_data"
    },
    {
     "name": "stdout",
     "output_type": "stream",
     "text": [
      "[DEBUG] Reference answer: content='Artificial Intelligence (AI) has transformed industries in numerous ways, revolutionizing the way businesses operate and making processes more efficient and effective. Some of the key ways in which AI has transformed industries include:\\n\\n1. Automation: AI has enabled automation of repetitive tasks, allowing businesses to streamline their operations and reduce the need for manual labor. This has led to increased productivity and cost savings for many industries.\\n\\n2. Data analysis: AI has the ability to analyze large amounts of data quickly and accurately, providing businesses with valuable insights that can be used to make informed decisions. This has revolutionized industries such as finance, healthcare, and marketing, where data analysis is crucial for success.\\n\\n3. Personalization: AI has enabled businesses to personalize their products and services to meet the specific needs of individual customers. This has led to improved customer satisfaction and loyalty, as well as increased sales and revenue for many industries.\\n\\n4. Predictive maintenance: AI has enabled businesses to predict when equipment is likely to fail, allowing them to perform maintenance before a breakdown occurs. This has helped industries such as manufacturing and transportation to reduce downtime and improve efficiency.\\n\\n5. Customer service: AI-powered chatbots and virtual assistants have transformed customer service, providing businesses with a cost-effective way to provide round-the-clock support to their customers. This has improved customer satisfaction and reduced the need for human customer service agents in many industries.\\n\\nOverall, AI has transformed industries by enabling automation, improving data analysis, personalizing products and services, enabling predictive maintenance, and revolutionizing customer service. As AI continues to advance, it is likely to have an even greater impact on industries in the future.' additional_kwargs={'refusal': None} response_metadata={'token_usage': {'completion_tokens': 328, 'prompt_tokens': 20, 'total_tokens': 348, 'completion_tokens_details': {'accepted_prediction_tokens': 0, 'audio_tokens': 0, 'reasoning_tokens': 0, 'rejected_prediction_tokens': 0}, 'prompt_tokens_details': {'audio_tokens': 0, 'cached_tokens': 0}}, 'model_name': 'gpt-3.5-turbo-0125', 'system_fingerprint': None, 'finish_reason': 'stop', 'logprobs': None} id='run-584ea418-fc57-4ade-8383-b8d486dce2eb-0' usage_metadata={'input_tokens': 20, 'output_tokens': 328, 'total_tokens': 348, 'input_token_details': {'audio': 0, 'cache_read': 0}, 'output_token_details': {'audio': 0, 'reasoning': 0}}\n"
     ]
    },
    {
     "data": {
      "text/html": [
       "<pre style=\"white-space:pre;overflow-x:auto;line-height:normal;font-family:Menlo,'DejaVu Sans Mono',consolas,'Courier New',monospace\"></pre>\n"
      ],
      "text/plain": []
     },
     "metadata": {},
     "output_type": "display_data"
    },
    {
     "data": {
      "text/html": [
       "<pre style=\"white-space:pre;overflow-x:auto;line-height:normal;font-family:Menlo,'DejaVu Sans Mono',consolas,'Courier New',monospace\">/Users/dhruvyadav/Desktop/javelin-main/javelin-python/venv/lib/python3.12/site-packages/rich/live.py:231: \n",
       "UserWarning: install \"ipywidgets\" for Jupyter support\n",
       "  warnings.warn('install \"ipywidgets\" for Jupyter support')\n",
       "</pre>\n"
      ],
      "text/plain": [
       "/Users/dhruvyadav/Desktop/javelin-main/javelin-python/venv/lib/python3.12/site-packages/rich/live.py:231: \n",
       "UserWarning: install \"ipywidgets\" for Jupyter support\n",
       "  warnings.warn('install \"ipywidgets\" for Jupyter support')\n"
      ]
     },
     "metadata": {},
     "output_type": "display_data"
    },
    {
     "name": "stdout",
     "output_type": "stream",
     "text": [
      "[DEBUG] Reference answer: content='AI models have revolutionized a wide range of sectors across industries, transforming the way businesses operate and improving efficiency, productivity, and decision-making processes. Some of the sectors that have been significantly impacted by AI models include:\\n\\n1. Healthcare: AI models have revolutionized the healthcare industry by enabling more accurate diagnosis and treatment of diseases, personalized medicine, and predictive analytics for patient outcomes. AI-powered tools such as medical imaging analysis, virtual health assistants, and predictive analytics have helped healthcare providers deliver better care to patients.\\n\\n2. Finance: AI models have transformed the finance industry by automating processes, detecting fraud, and providing personalized financial services. AI-powered tools such as algorithmic trading, risk management systems, and chatbots have helped financial institutions streamline operations and improve customer service.\\n\\n3. Retail: AI models have revolutionized the retail industry by enabling personalized shopping experiences, inventory management, and demand forecasting. AI-powered tools such as recommendation engines, chatbots, and visual search technology have helped retailers enhance customer engagement and drive sales.\\n\\n4. Manufacturing: AI models have transformed the manufacturing industry by optimizing production processes, predictive maintenance, and quality control. AI-powered tools such as predictive maintenance systems, robotic process automation, and computer vision technology have helped manufacturers improve efficiency and reduce downtime.\\n\\n5. Transportation: AI models have revolutionized the transportation industry by enabling autonomous vehicles, route optimization, and predictive maintenance. AI-powered tools such as self-driving cars, traffic management systems, and predictive maintenance algorithms have helped transportation companies improve safety, efficiency, and sustainability.\\n\\n6. Marketing: AI models have transformed the marketing industry by enabling personalized marketing campaigns, customer segmentation, and real-time analytics. AI-powered tools such as predictive analytics, chatbots, and recommendation engines have helped marketers target the right audience, optimize campaigns, and drive sales.\\n\\nOverall, AI models have revolutionized various sectors by enabling automation, optimization, and innovation, leading to improved outcomes, cost savings, and competitive advantages for businesses. As AI technology continues to advance, we can expect further disruptions and transformations across industries in the coming years.' additional_kwargs={'refusal': None} response_metadata={'token_usage': {'completion_tokens': 413, 'prompt_tokens': 22, 'total_tokens': 435, 'completion_tokens_details': {'accepted_prediction_tokens': 0, 'audio_tokens': 0, 'reasoning_tokens': 0, 'rejected_prediction_tokens': 0}, 'prompt_tokens_details': {'audio_tokens': 0, 'cached_tokens': 0}}, 'model_name': 'gpt-3.5-turbo-0125', 'system_fingerprint': None, 'finish_reason': 'stop', 'logprobs': None} id='run-d187b72d-675c-4aa8-8be9-35ac10e2c4d7-0' usage_metadata={'input_tokens': 22, 'output_tokens': 413, 'total_tokens': 435, 'input_token_details': {'audio': 0, 'cache_read': 0}, 'output_token_details': {'audio': 0, 'reasoning': 0}}\n"
     ]
    },
    {
     "data": {
      "text/html": [
       "<pre style=\"white-space:pre;overflow-x:auto;line-height:normal;font-family:Menlo,'DejaVu Sans Mono',consolas,'Courier New',monospace\"></pre>\n"
      ],
      "text/plain": []
     },
     "metadata": {},
     "output_type": "display_data"
    },
    {
     "data": {
      "text/html": [
       "<pre style=\"white-space:pre;overflow-x:auto;line-height:normal;font-family:Menlo,'DejaVu Sans Mono',consolas,'Courier New',monospace\">/Users/dhruvyadav/Desktop/javelin-main/javelin-python/venv/lib/python3.12/site-packages/rich/live.py:231: \n",
       "UserWarning: install \"ipywidgets\" for Jupyter support\n",
       "  warnings.warn('install \"ipywidgets\" for Jupyter support')\n",
       "</pre>\n"
      ],
      "text/plain": [
       "/Users/dhruvyadav/Desktop/javelin-main/javelin-python/venv/lib/python3.12/site-packages/rich/live.py:231: \n",
       "UserWarning: install \"ipywidgets\" for Jupyter support\n",
       "  warnings.warn('install \"ipywidgets\" for Jupyter support')\n"
      ]
     },
     "metadata": {},
     "output_type": "display_data"
    },
    {
     "name": "stdout",
     "output_type": "stream",
     "text": [
      "[DEBUG] Reference answer: content='Machines with artificial intelligence (AI) have the capability to simulate a wide range of functions across various industries and applications. Some of the key functions that machines can simulate with AI include:\\n\\n1. Data analysis and prediction: AI-powered machines can analyze large volumes of data to identify patterns, trends, and insights that can help businesses make informed decisions. They can also predict future outcomes based on historical data, enabling organizations to anticipate market trends, customer behavior, and other variables.\\n\\n2. Natural language processing: AI-powered machines can understand and generate human language, enabling them to interact with users through speech or text. This capability is used in chatbots, virtual assistants, and other applications that require communication with users in a natural and intuitive way.\\n\\n3. Image and video recognition: AI algorithms can analyze images and videos to identify objects, people, scenes, and other visual elements. This technology is used in facial recognition systems, autonomous vehicles, surveillance systems, and other applications that require visual understanding.\\n\\n4. Autonomous decision-making: AI-powered machines can make decisions and take actions without human intervention. This capability is used in self-driving cars, automated trading systems, and other applications that require real-time decision-making based on complex data and variables.\\n\\n5. Personalization and recommendation: AI algorithms can analyze user behavior and preferences to provide personalized recommendations and content. This technology is used in e-commerce platforms, streaming services, and other applications that aim to enhance user experience and engagement.\\n\\n6. Process automation: AI-powered machines can automate repetitive tasks and workflows, freeing up human resources for more strategic and creative work. This capability is used in robotic process automation, supply chain management, and other applications that require efficiency and scalability.\\n\\nOverall, machines with AI have the potential to simulate a wide range of functions across industries and applications, enabling organizations to improve efficiency, productivity, and decision-making. As AI technology continues to advance, the possibilities for simulation and automation are only expected to grow.' additional_kwargs={'refusal': None} response_metadata={'token_usage': {'completion_tokens': 391, 'prompt_tokens': 22, 'total_tokens': 413, 'completion_tokens_details': {'accepted_prediction_tokens': 0, 'audio_tokens': 0, 'reasoning_tokens': 0, 'rejected_prediction_tokens': 0}, 'prompt_tokens_details': {'audio_tokens': 0, 'cached_tokens': 0}}, 'model_name': 'gpt-3.5-turbo-0125', 'system_fingerprint': None, 'finish_reason': 'stop', 'logprobs': None} id='run-b5c006e6-3174-444e-9029-3e1118b7cd7f-0' usage_metadata={'input_tokens': 22, 'output_tokens': 391, 'total_tokens': 413, 'input_token_details': {'audio': 0, 'cache_read': 0}, 'output_token_details': {'audio': 0, 'reasoning': 0}}\n"
     ]
    },
    {
     "data": {
      "text/html": [
       "<pre style=\"white-space:pre;overflow-x:auto;line-height:normal;font-family:Menlo,'DejaVu Sans Mono',consolas,'Courier New',monospace\"></pre>\n"
      ],
      "text/plain": []
     },
     "metadata": {},
     "output_type": "display_data"
    },
    {
     "data": {
      "text/html": [
       "<pre style=\"white-space:pre;overflow-x:auto;line-height:normal;font-family:Menlo,'DejaVu Sans Mono',consolas,'Courier New',monospace\">/Users/dhruvyadav/Desktop/javelin-main/javelin-python/venv/lib/python3.12/site-packages/rich/live.py:231: \n",
       "UserWarning: install \"ipywidgets\" for Jupyter support\n",
       "  warnings.warn('install \"ipywidgets\" for Jupyter support')\n",
       "</pre>\n"
      ],
      "text/plain": [
       "/Users/dhruvyadav/Desktop/javelin-main/javelin-python/venv/lib/python3.12/site-packages/rich/live.py:231: \n",
       "UserWarning: install \"ipywidgets\" for Jupyter support\n",
       "  warnings.warn('install \"ipywidgets\" for Jupyter support')\n"
      ]
     },
     "metadata": {},
     "output_type": "display_data"
    },
    {
     "name": "stdout",
     "output_type": "stream",
     "text": [
      "[DEBUG] Reference answer: content='Artificial Intelligence (AI) has had a significant impact on societies in various ways. Some of the key impacts of AI on societies include:\\n\\n1. Automation of tasks: AI has the ability to automate repetitive and mundane tasks, which has led to increased efficiency and productivity in various industries. This has resulted in job displacement in some sectors, but has also created new job opportunities in AI-related fields.\\n\\n2. Improved decision-making: AI algorithms can analyze large amounts of data and provide insights that can help businesses and governments make better decisions. This has led to improved efficiency and effectiveness in various sectors, such as healthcare, finance, and transportation.\\n\\n3. Personalization: AI technologies have enabled personalized experiences for consumers, such as personalized recommendations on streaming platforms, personalized healthcare treatments, and personalized shopping experiences. This has improved customer satisfaction and loyalty.\\n\\n4. Ethical and privacy concerns: The use of AI raises ethical concerns related to bias in algorithms, privacy issues, and the potential misuse of AI technologies. There is a need for regulations and guidelines to ensure that AI is used responsibly and ethically.\\n\\n5. Impact on employment: The automation of tasks by AI has led to concerns about job displacement and the future of work. There is a need for reskilling and upskilling programs to help workers adapt to the changing labor market.\\n\\n6. Healthcare advancements: AI has the potential to revolutionize healthcare by improving diagnostics, personalized treatments, and drug discovery. AI technologies can analyze medical images, predict disease outbreaks, and assist in surgical procedures.\\n\\n7. Environmental impact: AI can be used to optimize energy consumption, reduce waste, and improve sustainability in various industries. AI technologies can help monitor and manage natural resources, predict climate change impacts, and develop renewable energy solutions.\\n\\nOverall, the impact of AI on societies is complex and multifaceted. While AI has the potential to bring about significant benefits, there are also challenges and risks that need to be addressed to ensure that AI is used in a responsible and ethical manner. It is important for policymakers, businesses, and society as a whole to work together to harness the potential of AI while mitigating its negative impacts.' additional_kwargs={'refusal': None} response_metadata={'token_usage': {'completion_tokens': 431, 'prompt_tokens': 23, 'total_tokens': 454, 'completion_tokens_details': {'accepted_prediction_tokens': 0, 'audio_tokens': 0, 'reasoning_tokens': 0, 'rejected_prediction_tokens': 0}, 'prompt_tokens_details': {'audio_tokens': 0, 'cached_tokens': 0}}, 'model_name': 'gpt-3.5-turbo-0125', 'system_fingerprint': None, 'finish_reason': 'stop', 'logprobs': None} id='run-4b37ad87-d012-4614-a31f-45690215ee57-0' usage_metadata={'input_tokens': 23, 'output_tokens': 431, 'total_tokens': 454, 'input_token_details': {'audio': 0, 'cache_read': 0}, 'output_token_details': {'audio': 0, 'reasoning': 0}}\n"
     ]
    },
    {
     "data": {
      "text/html": [
       "<pre style=\"white-space:pre;overflow-x:auto;line-height:normal;font-family:Menlo,'DejaVu Sans Mono',consolas,'Courier New',monospace\"></pre>\n"
      ],
      "text/plain": []
     },
     "metadata": {},
     "output_type": "display_data"
    },
    {
     "name": "stdout",
     "output_type": "stream",
     "text": [
      "Evaluation Result:\n",
      "Evaluation complete. Avg Score: 0.91. Results stored in RAG_FOR_AI_test_cases.csv.\n",
      "Execute Tool Response:\n",
      "Test queries have been executed for the app \"RAG_FOR_AI\". The responses have been saved in the file \"RAG_FOR_AI_test_cases.csv\".\n"
     ]
    }
   ],
   "source": [
    "import os\n",
    "import json\n",
    "import requests\n",
    "import pandas as pd\n",
    "from pydantic import BaseModel\n",
    "\n",
    "from langchain_openai import ChatOpenAI\n",
    "from langchain.prompts import PromptTemplate\n",
    "from langchain.chains import LLMChain\n",
    "\n",
    "from langgraph.prebuilt import create_react_agent\n",
    "from langgraph.checkpoint.memory import MemorySaver\n",
    "from langchain_core.tools import tool\n",
    "\n",
    "# Import DeepEval modules\n",
    "from deepeval import login_with_confident_api_key, evaluate  # evaluate helper\n",
    "from deepeval.metrics import AnswerRelevancyMetric\n",
    "from deepeval.test_case import LLMTestCase\n",
    "\n",
    "# -----------------------------\n",
    "# Configure API Keys and Log In\n",
    "# -----------------------------\n",
    "\n",
    "login_with_confident_api_key(os.environ[\"DEEPEVAL_API_KEY\"])\n",
    "\n",
    "# -----------------------------\n",
    "# Define AppParams model\n",
    "# -----------------------------\n",
    "class AppParams(BaseModel):\n",
    "    app_name: str\n",
    "    description: str\n",
    "    system_prompt: str\n",
    "    endpoint: str\n",
    "    extra_definition: str\n",
    "    k: int\n",
    "\n",
    "# -----------------------------\n",
    "# Utility: Custom Parsing Function\n",
    "# -----------------------------\n",
    "def custom_parsing_for_rag(response_text: str) -> str:\n",
    "    \"\"\"\n",
    "    Parse the response from the RAG endpoint (expected as JSON).\n",
    "    Return the value associated with \"answer\" if available; if not, then \"response\".\n",
    "    Otherwise, return the original text.\n",
    "    \"\"\"\n",
    "    try:\n",
    "        data = json.loads(response_text)\n",
    "        # Try \"answer\" key; if missing try \"response\"\n",
    "        return data.get(\"answer\") or data.get(\"response\") or response_text\n",
    "    except Exception:\n",
    "        return response_text\n",
    "\n",
    "# -----------------------------\n",
    "# Tool: Generate Test Cases\n",
    "# -----------------------------\n",
    "@tool\n",
    "def generate_test_cases(app_name: str, description: str, system_prompt: str,\n",
    "                        endpoint: str, extra_definition: str, k: int) -> dict:\n",
    "    \"\"\"\n",
    "    Generate exactly k plain test queries for the app details using an LLM.\n",
    "    Save the queries (and an empty \"Response\" column) to a CSV.\n",
    "    \"\"\"\n",
    "    llm = ChatOpenAI(model=\"gpt-3.5-turbo\", temperature=0.7)\n",
    "    prompt_template = \"\"\"\n",
    "    Application Name: {app_name}\n",
    "    Description: {description}\n",
    "    System Prompt: {system_prompt}\n",
    "    Extra Definitions: {extra_definition}\n",
    "    Endpoint: {endpoint}\n",
    "    Number of Test Queries: {k}\n",
    "\n",
    "    Based on the above details, generate exactly {k} test queries for automated testing.\n",
    "    Each test query should be a plain text string that represents a query to test the endpoint.\n",
    "    Do not include any extra information, explanations, or expected output.\n",
    "    Return the result as a JSON array of strings.\n",
    "    \"\"\"\n",
    "    prompt = PromptTemplate(\n",
    "        template=prompt_template,\n",
    "        input_variables=[\"app_name\", \"description\", \"system_prompt\", \"extra_definition\", \"endpoint\", \"k\"]\n",
    "    )\n",
    "    llm_chain = LLMChain(llm=llm, prompt=prompt)\n",
    "    print(\"[DEBUG] Generating test queries...\")\n",
    "    generated = llm_chain.run({\n",
    "        \"app_name\": app_name,\n",
    "        \"description\": description,\n",
    "        \"system_prompt\": system_prompt,\n",
    "        \"extra_definition\": extra_definition,\n",
    "        \"endpoint\": endpoint,\n",
    "        \"k\": k\n",
    "    })\n",
    "    print(\"[DEBUG] Raw LLM output:\", generated)\n",
    "    try:\n",
    "        queries = json.loads(generated)\n",
    "        if not isinstance(queries, list):\n",
    "            raise ValueError(\"JSON output is not a list.\")\n",
    "    except Exception as e:\n",
    "        print(\"[ERROR] Parsing JSON failed. Splitting by newlines. Error:\", e)\n",
    "        queries = [q.strip() for q in generated.split(\"\\n\") if q.strip()]\n",
    "    print(\"[DEBUG] Parsed queries:\", queries)\n",
    "    df = pd.DataFrame({\"Test_Cases\": queries, \"Response\": [\"\"] * len(queries)})\n",
    "    csv_file = f\"{app_name}_test_cases.csv\"\n",
    "    df.to_csv(csv_file, index=False)\n",
    "    return {\"result\": f\"Test queries saved in {csv_file}.\"}\n",
    "\n",
    "# -----------------------------\n",
    "# Tool: Execute Test Cases\n",
    "# -----------------------------\n",
    "@tool\n",
    "def execute_test_cases(app_name: str, endpoint: str, extra_headers: dict = None) -> dict:\n",
    "    \"\"\"\n",
    "    For each test query in the CSV, POST to the endpoint and parse the response.\n",
    "    Save the responses back to the CSV.\n",
    "    \"\"\"\n",
    "    csv_file = f\"{app_name}_test_cases.csv\"\n",
    "    print(f\"[DEBUG] Reading test queries from {csv_file}...\")\n",
    "    try:\n",
    "        df = pd.read_csv(csv_file)\n",
    "    except Exception as e:\n",
    "        return {\"result\": f\"Could not read CSV {csv_file}: {str(e)}\"}\n",
    "    \n",
    "    headers = extra_headers if extra_headers is not None else {}\n",
    "    responses = []\n",
    "    for query in df[\"Test_Cases\"]:\n",
    "        try:\n",
    "            res = requests.post(endpoint, json={\"query\": query}, headers=headers)\n",
    "            if res.status_code == 200:\n",
    "                text = res.text\n",
    "            else:\n",
    "                text = f\"Error {res.status_code}: {res.text}\"\n",
    "        except Exception as e:\n",
    "            text = f\"Request failed: {str(e)}\"\n",
    "        parsed = custom_parsing_for_rag(text)\n",
    "        responses.append(parsed)\n",
    "        print(f\"[DEBUG] Query: {query} -> Response: {parsed}\")\n",
    "    df[\"Response\"] = responses\n",
    "    df.to_csv(csv_file, index=False)\n",
    "    eval_result = evaluate_test_cases(params.app_name)\n",
    "    print(\"Evaluation Result:\")\n",
    "    print(eval_result[\"result\"])\n",
    "\n",
    "    return {\"result\": f\"Executed queries; responses saved in {csv_file}.\"}\n",
    "\n",
    "# -----------------------------\n",
    "# Function: Evaluate Test Cases (Direct Function Call)\n",
    "# -----------------------------\n",
    "def evaluate_test_cases(app_name: str) -> dict:\n",
    "    \"\"\"\n",
    "    For each test case in the CSV, generate a reference answer using a reference LLM,\n",
    "    evaluate the actual output against the reference using DeepEval,\n",
    "    and save the per-test score and reason in new CSV columns.\n",
    "    This function is called directly (not as a tool) to avoid recursion issues.\n",
    "    \"\"\"\n",
    "    csv_file = f\"{app_name}_test_cases.csv\"\n",
    "    marker_file = f\"{app_name}_evaluation.marker\"\n",
    "    if os.path.exists(marker_file):\n",
    "        return {\"result\": \"Evaluation already completed; skipping re-evaluation.\"}\n",
    "    \n",
    "    try:\n",
    "        df = pd.read_csv(csv_file)\n",
    "    except Exception as e:\n",
    "        return {\"result\": f\"Could not read CSV {csv_file}: {str(e)}\"}\n",
    "    \n",
    "    scores = []\n",
    "    reasons = []\n",
    "    reference_llm = ChatOpenAI(\n",
    "        openai_api_key=os.environ[\"OPENAI_API_KEY\"],\n",
    "        model=\"gpt-3.5-turbo\",\n",
    "        temperature=0\n",
    "    )\n",
    "    \n",
    "    for idx, row in df.iterrows():\n",
    "        query = row[\"Test_Cases\"]\n",
    "        rag_answer = row[\"Response\"]\n",
    "        ref_prompt = f\"Answer the following query in detail: {query}\"\n",
    "        # Force the reference LLM to return a string.\n",
    "        reference_answer = str(reference_llm(ref_prompt))\n",
    "        print(\"[DEBUG] Reference answer:\", reference_answer)\n",
    "        test_case = LLMTestCase(\n",
    "            input=query,\n",
    "            actual_output=rag_answer,\n",
    "            retrieval_context=[reference_answer]\n",
    "        )\n",
    "        metric = AnswerRelevancyMetric(threshold=0.7)\n",
    "        metric.measure(test_case)\n",
    "        scores.append(metric.score)\n",
    "        reasons.append(metric.reason)\n",
    "    \n",
    "    df[\"Answer_Score\"] = scores\n",
    "    df[\"Answer_Reason\"] = reasons\n",
    "    df.to_csv(csv_file, index=False)\n",
    "    with open(marker_file, \"w\") as f:\n",
    "        f.write(\"Evaluation complete.\")\n",
    "    avg_score = sum(scores) / len(scores) if scores else 0\n",
    "    return {\"result\": f\"Evaluation complete. Avg Score: {avg_score:.2f}. Results stored in {csv_file}.\"}\n",
    "\n",
    "# -----------------------------\n",
    "# Agent Setup: For Generation and Execution Only\n",
    "# -----------------------------\n",
    "tools = [generate_test_cases, execute_test_cases]\n",
    "model = ChatOpenAI(model=\"gpt-3.5-turbo\", temperature=0)\n",
    "checkpointer = MemorySaver()\n",
    "agent = create_react_agent(model, tools, checkpointer=checkpointer)\n",
    "\n",
    "# -----------------------------\n",
    "# Main: Single Agent for Generation & Execution, then Direct Evaluation\n",
    "# -----------------------------\n",
    "if __name__ == \"__main__\":\n",
    "    params = AppParams(\n",
    "        app_name=\"RAG_FOR_AI\",\n",
    "        description=\"My app provides information about documents in a RAG model.\",\n",
    "        system_prompt=(\n",
    "            \"Hello, you are a helpful scientific assistant. Based on the provided documents, answer the user's query. \"\n",
    "            \"Document: Artificial Intelligence (AI) is a rapidly advancing technology that is transforming industries and societies across the globe. \"\n",
    "            \"In recent years, AI models have revolutionized sectors such as healthcare, automotive, finance, and entertainment. \"\n",
    "            \"These technologies enable machines to simulate human-like cognitive functions with unprecedented accuracy.\"\n",
    "        ),\n",
    "        endpoint=\"http://127.0.0.1:5001/query\",\n",
    "        extra_definition=\"\",\n",
    "        k=5\n",
    "    )\n",
    "    \n",
    "    # 1) Generate test queries using the agent.\n",
    "    input_message_generate = {\n",
    "        \"messages\": [\n",
    "            {\n",
    "                \"role\": \"user\",\n",
    "                \"content\": (\n",
    "                    f\"Generate custom test queries for my app. \"\n",
    "                    f\"App Name: {params.app_name}. \"\n",
    "                    f\"Description: {params.description}. \"\n",
    "                    f\"System Prompt: {params.system_prompt}. \"\n",
    "                    f\"Endpoint: {params.endpoint}. \"\n",
    "                    f\"Extra Definitions: {params.extra_definition}. \"\n",
    "                    f\"Number of Test Queries: {params.k}.\"\n",
    "                )\n",
    "            }\n",
    "        ]\n",
    "    }\n",
    "    gen_state = agent.invoke(input_message_generate, config={\"configurable\": {\"thread_id\": 1}})\n",
    "    print(\"Generate Tool Response:\")\n",
    "    print(gen_state[\"messages\"][-1].content)\n",
    "    \n",
    "    # 2) Execute test queries using the agent.\n",
    "    input_message_execute = {\n",
    "        \"messages\": [\n",
    "            {\n",
    "                \"role\": \"user\",\n",
    "                \"content\": (\n",
    "                    f\"Execute test queries for my app. \"\n",
    "                    f\"App Name: {params.app_name}. \"\n",
    "                    f\"Endpoint: {params.endpoint}.\"\n",
    "                )\n",
    "            }\n",
    "        ]\n",
    "    }\n",
    "    exe_state = agent.invoke(input_message_execute, config={\"configurable\": {\"thread_id\": 2}})\n",
    "    print(\"Execute Tool Response:\")\n",
    "    print(exe_state[\"messages\"][-1].content)\n"
   ]
  },
  {
   "cell_type": "code",
   "execution_count": null,
   "metadata": {},
   "outputs": [],
   "source": []
  }
 ],
 "metadata": {
  "kernelspec": {
   "display_name": "venv",
   "language": "python",
   "name": "python3"
  },
  "language_info": {
   "codemirror_mode": {
    "name": "ipython",
    "version": 3
   },
   "file_extension": ".py",
   "mimetype": "text/x-python",
   "name": "python",
   "nbconvert_exporter": "python",
   "pygments_lexer": "ipython3",
   "version": "3.12.8"
  }
 },
 "nbformat": 4,
 "nbformat_minor": 2
}
